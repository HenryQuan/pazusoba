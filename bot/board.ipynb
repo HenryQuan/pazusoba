{
 "metadata": {
  "language_info": {
   "codemirror_mode": {
    "name": "ipython",
    "version": 3
   },
   "file_extension": ".py",
   "mimetype": "text/x-python",
   "name": "python",
   "nbconvert_exporter": "python",
   "pygments_lexer": "ipython3",
   "version": "3.8.3-final"
  },
  "orig_nbformat": 2,
  "kernelspec": {
   "name": "python38332bit3dbccfd43e3045029157b781c61a0669",
   "display_name": "Python 3.8.3 32-bit"
  }
 },
 "nbformat": 4,
 "nbformat_minor": 2,
 "cells": [
  {
   "cell_type": "code",
   "execution_count": null,
   "metadata": {},
   "outputs": [],
   "source": [
    "import pyautogui as gui\n",
    "import cv2 as cv\n",
    "import numpy as np"
   ]
  },
  {
   "cell_type": "code",
   "execution_count": null,
   "metadata": {},
   "outputs": [],
   "source": [
    "# start and end loc\n",
    "board_loc = [164, 1362, 998, 2055]\n",
    "# what's the size of the board\n",
    "# TODO: detect this automatically\n",
    "board_config = [6, 5]\n",
    "# get board position here\n",
    "gui.position()"
   ]
  },
  {
   "cell_type": "code",
   "execution_count": null,
   "metadata": {},
   "outputs": [],
   "source": [
    "# take a screenshot at board_loc, need to subtract because it is width and height\n",
    "left, top, end_left, end_top = board_loc\n",
    "width = end_left - left\n",
    "height = end_top - top\n",
    "\n",
    "board_img = gui.screenshot(region=(left, top, width, height))\n",
    "board_img.convert('RGB')\n",
    "# save the img for open cv\n",
    "board_img.save(\"board.png\")\n",
    "\n",
    "# scan through the entire image\n",
    "src = cv.imread(\"./board.png\")\n",
    "gray = cv.cvtColor(src, cv.COLOR_BGR2GRAY)\n",
    "gray = cv.medianBlur(gray, 5)\n",
    "circles = cv.HoughCircles(gray, cv.HOUGH_GRADIENT, 1, 10, param1=200, param2=100, minRadius=1, maxRadius=int(height / board_config[1]))\n",
    "if circles is not None:\n",
    "        circles = np.uint16(np.around(circles))\n",
    "        for i in circles[0, :]:\n",
    "            center = (i[0], i[1])\n",
    "            # circle center\n",
    "            cv.circle(src, center, 1, (0, 100, 100), 3)\n",
    "            # circle outline\n",
    "            radius = i[2]\n",
    "            cv.circle(src, center, radius, (255, 0, 255), 3)\n",
    "cv.imshow(\"circles\", src)\n",
    "cv.waitKey()"
   ]
  },
  {
   "cell_type": "code",
   "execution_count": null,
   "metadata": {
    "tags": []
   },
   "outputs": [],
   "source": [
    "# save current position\n",
    "(x, y) = gui.position()\n",
    "offset = 500\n",
    "gui.mouseDown(271, 1351, button='left')\n",
    "gui.moveTo(700, 1700, duration=0.3)\n",
    "gui.moveTo(500, 1000, duration=0.3)\n",
    "gui.moveTo(600, 1500, duration=0.3)\n",
    "gui.moveTo(200, 1300, duration=0.3)\n",
    "gui.moveTo(900, 1400, duration=0.3)\n",
    "gui.mouseUp()\n",
    "\n",
    "# move back to current position after everything\n",
    "gui.moveTo(x, y)"
   ]
  },
  {
   "cell_type": "code",
   "execution_count": null,
   "metadata": {},
   "outputs": [],
   "source": []
  }
 ]
}