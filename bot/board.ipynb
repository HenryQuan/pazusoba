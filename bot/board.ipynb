{
 "metadata": {
  "language_info": {
   "codemirror_mode": {
    "name": "ipython",
    "version": 3
   },
   "file_extension": ".py",
   "mimetype": "text/x-python",
   "name": "python",
   "nbconvert_exporter": "python",
   "pygments_lexer": "ipython3",
   "version": "3.8.3-final"
  },
  "orig_nbformat": 2,
  "kernelspec": {
   "name": "python38332bit3dbccfd43e3045029157b781c61a0669",
   "display_name": "Python 3.8.3 32-bit"
  }
 },
 "nbformat": 4,
 "nbformat_minor": 2,
 "cells": [
  {
   "cell_type": "code",
   "execution_count": null,
   "metadata": {},
   "outputs": [],
   "source": [
    "import pyautogui as gui\n",
    "import cv2"
   ]
  },
  {
   "cell_type": "code",
   "execution_count": null,
   "metadata": {},
   "outputs": [],
   "source": [
    "# start and end loc\n",
    "board_loc = [166, 1358, 1003, 2042]\n",
    "# what's the size of the board\n",
    "# TODO: detect this automatically\n",
    "board_config = [6, 5]\n",
    "# get board position here\n",
    "gui.position()"
   ]
  },
  {
   "cell_type": "code",
   "execution_count": null,
   "metadata": {},
   "outputs": [],
   "source": [
    "# take a screenshot at board_loc, need to subtract because it is width and height\n",
    "left, top, end_left, end_top = board_loc\n",
    "width = end_left - left\n",
    "height = end_top - top\n",
    "board_img = gui.screenshot(region=(left, top, width, height))\n",
    "# save the img for open cv\n",
    "board_img.save(\"board.png\")\n",
    "# scan through the entire image\n",
    "# image = cv2.imread(\"./board.png\")\n",
    "# image = cv2.rectangle(image, (0, 0), (width, height), (255, 0, 0), 1) \n",
    "# cv2.imshow(\"board\", image)  "
   ]
  },
  {
   "cell_type": "code",
   "execution_count": null,
   "metadata": {
    "tags": []
   },
   "outputs": [],
   "source": [
    "# save current position\n",
    "(x, y) = gui.position()\n",
    "\n",
    "offset = 500\n",
    "gui.mouseDown(271, 1351, button='left')\n",
    "gui.moveTo(700, 1700, duration=0.3)\n",
    "gui.moveTo(500, 1000, duration=0.3)\n",
    "gui.moveTo(600, 1500, duration=0.3)\n",
    "gui.moveTo(200, 1300, duration=0.3)\n",
    "gui.moveTo(900, 1400, duration=0.3)\n",
    "gui.mouseUp()\n",
    "\n",
    "# move back to current position after everything\n",
    "gui.moveTo(x, y)"
   ]
  },
  {
   "cell_type": "code",
   "execution_count": null,
   "metadata": {},
   "outputs": [],
   "source": []
  }
 ]
}