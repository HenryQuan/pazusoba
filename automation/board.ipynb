{
 "metadata": {
  "language_info": {
   "codemirror_mode": {
    "name": "ipython",
    "version": 3
   },
   "file_extension": ".py",
   "mimetype": "text/x-python",
   "name": "python",
   "nbconvert_exporter": "python",
   "pygments_lexer": "ipython3",
   "version": "3.8.3-final"
  },
  "orig_nbformat": 2,
  "kernelspec": {
   "name": "python38332bit3dbccfd43e3045029157b781c61a0669",
   "display_name": "Python 3.8.3 32-bit"
  }
 },
 "nbformat": 4,
 "nbformat_minor": 2,
 "cells": [
  {
   "cell_type": "code",
   "execution_count": null,
   "metadata": {},
   "outputs": [],
   "source": [
    "import pyautogui as gui\n",
    "import cv2 as cv\n",
    "import numpy as np"
   ]
  },
  {
   "cell_type": "code",
   "execution_count": null,
   "metadata": {},
   "outputs": [],
   "source": [
    "# start and end loc\n",
    "board_loc = [203, 1235, 1037, 1929]\n",
    "# what's the size of the board\n",
    "# TODO: detect this automatically\n",
    "board_config = [6, 5]\n",
    "board_size = (830, 690)\n",
    "border_len = 1\n",
    "# get board position here\n",
    "gui.position()"
   ]
  },
  {
   "cell_type": "code",
   "execution_count": null,
   "metadata": {},
   "outputs": [],
   "source": [
    "# based on count, get a list of every orb, this is also an ordered list\n",
    "def getEachOrb(image, count):\n",
    "    # weight, height\n",
    "    w, h = board_size\n",
    "    # column, row\n",
    "    c = r = 0\n",
    "    orbs = []\n",
    "    if count == 20:\n",
    "        # 5x4\n",
    "        c = 5\n",
    "        r = 4\n",
    "    elif count == 30:\n",
    "        # 6x5\n",
    "        c = 6\n",
    "        r = 5\n",
    "    elif count == 42:\n",
    "        # 7x6\n",
    "        c = 7\n",
    "        r = 6\n",
    "    else:\n",
    "        print(\"Count is not valid. Please contact the developer for more info.\")\n",
    "\n",
    "    # consider added padding here\n",
    "    initial = border_len * 2\n",
    "    orb_w = int((w + initial) / c)\n",
    "    orb_h = int((h + initial) / r)\n",
    "    x1 = y1 = initial\n",
    "    x2 = y2 = initial\n",
    "    # start getting every orb\n",
    "    for i in range(r):\n",
    "        # update y2 first\n",
    "        y2 += orb_h\n",
    "        for j in range(c):\n",
    "            x2 += orb_w\n",
    "            orbs.append(image[y1:y2, x1:x2].copy())\n",
    "            # update x1 here\n",
    "            x1 += orb_w\n",
    "        # reset x1 and x2, update y1 here\n",
    "        x1 = x2 = initial\n",
    "        y1 += orb_h\n",
    "    return orbs"
   ]
  },
  {
   "cell_type": "code",
   "execution_count": null,
   "metadata": {
    "tags": []
   },
   "outputs": [],
   "source": [
    "# take a screenshot at board_loc, need to subtract because it is width and height\n",
    "left, top, end_left, end_top = board_loc\n",
    "width = end_left - left\n",
    "height = end_top - top\n",
    "\n",
    "board_img = gui.screenshot(region=(left, top, width, height))\n",
    "board_img.convert('RGB')\n",
    "# save the img for open cv\n",
    "board_img.save(\"board.png\")\n",
    "\n",
    "# scan through the entire image\n",
    "# src = cv.imread(\"./board.png\")\n",
    "src = cv.imread(\"sample/zeus.png\")\n",
    "\n",
    "# resize it to about 830, 690 which is the size I use\n",
    "src = cv.resize(src, board_size)\n",
    "# add some padding in case orbs are too close to the border\n",
    "src = cv.copyMakeBorder(src, border_len, border_len, border_len, border_len, cv.BORDER_CONSTANT)\n",
    "\n",
    "# convert to RGB\n",
    "image = cv.cvtColor(src, cv.COLOR_BGR2RGB)\n",
    "# convert to grayscale\n",
    "gray = cv.cvtColor(src, cv.COLOR_RGB2GRAY)\n",
    "# create a binary thresholded image\n",
    "_, binary = cv.threshold(gray, 80, 255, cv.THRESH_BINARY_INV)\n",
    "# find the contours from the thresholded image\n",
    "contours, _ = cv.findContours(binary, cv.RETR_LIST, cv.CHAIN_APPROX_NONE)\n",
    "# This won't work for jammer (too dark) and bomb (too dark and moving) but I will detect them with image matching\n",
    "goodContours = [c for c in contours if 5000 < cv.contourArea(c) < 100000]\n",
    "orb_count = len(goodContours)\n",
    "orbs = getEachOrb(src, orb_count)\n",
    "cv.imshow(\"orb\", orbs[11])\n",
    "\n",
    "# draw all contours\n",
    "image = cv.drawContours(src, goodContours, -1, (255, 0, 0), 7)\n",
    "# cv.imshow(\"board\", src)\n",
    "# cv.imshow(\"bw\", binary)\n",
    "cv.waitKey()"
   ]
  },
  {
   "cell_type": "code",
   "execution_count": null,
   "metadata": {
    "tags": []
   },
   "outputs": [],
   "source": [
    "# save current position\n",
    "(x, y) = gui.position()\n",
    "offset = 500\n",
    "gui.mouseDown(271, 1351, button='left')\n",
    "gui.moveTo(700, 1700, duration=0.2)\n",
    "gui.moveTo(500, 1000, duration=0.2)\n",
    "gui.moveTo(600, 1500, duration=0.2)\n",
    "gui.moveTo(200, 1300, duration=0.2)\n",
    "gui.moveTo(900, 1400, duration=0.2)\n",
    "gui.mouseUp()\n",
    "\n",
    "# move back to current position after everything\n",
    "gui.moveTo(x, y)"
   ]
  },
  {
   "cell_type": "code",
   "execution_count": null,
   "metadata": {},
   "outputs": [],
   "source": []
  }
 ]
}