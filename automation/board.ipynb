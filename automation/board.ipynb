{
 "metadata": {
  "language_info": {
   "codemirror_mode": {
    "name": "ipython",
    "version": 3
   },
   "file_extension": ".py",
   "mimetype": "text/x-python",
   "name": "python",
   "nbconvert_exporter": "python",
   "pygments_lexer": "ipython3",
   "version": "3.8.3-final"
  },
  "orig_nbformat": 2,
  "kernelspec": {
   "name": "python38332bit3dbccfd43e3045029157b781c61a0669",
   "display_name": "Python 3.8.3 32-bit"
  }
 },
 "nbformat": 4,
 "nbformat_minor": 2,
 "cells": [
  {
   "cell_type": "code",
   "execution_count": 1,
   "metadata": {},
   "outputs": [],
   "source": [
    "import pyautogui as gui\n",
    "import cv2 as cv\n",
    "import numpy as np"
   ]
  },
  {
   "cell_type": "code",
   "execution_count": 2,
   "metadata": {
    "tags": []
   },
   "outputs": [
    {
     "output_type": "stream",
     "name": "stdout",
     "text": "2526, 434\n"
    }
   ],
   "source": [
    "# start and end loc\n",
    "board_loc = [155, 1267, 986, 1959]\n",
    "# what's the size of the board\n",
    "# TODO: detect this automatically\n",
    "board_config = [6, 5]\n",
    "board_size = (830, 690)\n",
    "border_len = 1\n",
    "# get board position here\n",
    "pos = gui.position()\n",
    "# this makes update board_loc a bit easier\n",
    "print(\"{}, {}\".format(pos.x, pos.y))"
   ]
  },
  {
   "cell_type": "code",
   "execution_count": 3,
   "metadata": {},
   "outputs": [],
   "source": [
    "# based on count, get a list of every orb, this is also an ordered list\n",
    "def getEachOrb(image, count):\n",
    "    # weight, height\n",
    "    w, h = board_size\n",
    "    # column, row\n",
    "    c = r = 0\n",
    "    orbs = []\n",
    "    # TODO: this is just a hack if there are too many jammers and bombs, this won't work\n",
    "    if count <= 20:\n",
    "        # 5x4\n",
    "        c = 5\n",
    "        r = 4\n",
    "    elif count <= 30:\n",
    "        # 6x5\n",
    "        c = 6\n",
    "        r = 5\n",
    "    elif count <= 42:\n",
    "        # 7x6\n",
    "        c = 7\n",
    "        r = 6\n",
    "    else:\n",
    "        print(\"Count is not valid. Please contact the developer for more info.\")\n",
    "\n",
    "    # consider added padding here\n",
    "    initial = border_len * 2\n",
    "    orb_w = int((w + initial) / c)\n",
    "    orb_h = int((h + initial) / r)\n",
    "    x1 = y1 = initial\n",
    "    x2 = y2 = initial\n",
    "    # start getting every orb\n",
    "    for i in range(r):\n",
    "        # update x2 and y2 first\n",
    "        y2 += orb_h\n",
    "        for j in range(c):\n",
    "            x2 += orb_w\n",
    "            # NOTE: you need to save a copy here because it changes image\n",
    "            orbs.append(image[y1:y2, x1:x2].copy())\n",
    "            # update x1 and y2 later\n",
    "            x1 += orb_w\n",
    "        y1 += orb_h\n",
    "        # reset x1 and x2\n",
    "        x1 = x2 = initial\n",
    "    return orbs"
   ]
  },
  {
   "cell_type": "code",
   "execution_count": 4,
   "metadata": {},
   "outputs": [],
   "source": [
    "# detect the colour of all orbs and return a list\n",
    "def detectColour(orbs):\n",
    "    output = \"\"\n",
    "    for i in range(len(orbs)):\n",
    "        curr = orbs[i]\n",
    "        # do some magic here\n",
    "        \n",
    "        output += \"R\"\n",
    "    return output"
   ]
  },
  {
   "cell_type": "code",
   "execution_count": 126,
   "metadata": {
    "tags": []
   },
   "outputs": [],
   "source": [
    "def run():\n",
    "    # take a screenshot at board_loc, need to subtract because it is width and height\n",
    "    left, top, end_left, end_top = board_loc\n",
    "    width = end_left - left\n",
    "    height = end_top - top\n",
    "\n",
    "    board_img = gui.screenshot(region=(left, top, width, height))\n",
    "    board_img.convert('RGB')\n",
    "    # save the img for open cv\n",
    "    board_img.save(\"./board.png\")\n",
    "\n",
    "    # scan through the entire image\n",
    "    src = cv.imread(\"./board.png\")\n",
    "    # src = cv.imread(\"sample/zeus.png\")\n",
    "\n",
    "    # resize it to about 830, 690 which is the size I use\n",
    "    src = cv.resize(src, board_size)\n",
    "    # add some padding in case orbs are too close to the border\n",
    "    src = cv.copyMakeBorder(src, border_len, border_len, border_len, border_len, cv.BORDER_CONSTANT)\n",
    "    # blue the image\n",
    "    src = cv.medianBlur(src, 3)\n",
    "\n",
    "    # convert to RGB\n",
    "    image = cv.cvtColor(src, cv.COLOR_BGR2RGB)\n",
    "    # convert to grayscale\n",
    "    gray = cv.cvtColor(src, cv.COLOR_RGB2GRAY)\n",
    "    # create a binary thresholded image\n",
    "    _, binary = cv.threshold(gray, 100, 255, cv.THRESH_TRIANGLE)\n",
    "    _, binary = cv.threshold(gray, 100, 255, cv.THRESH_BINARY_INV)\n",
    "\n",
    "    # find the contours from the thresholded image\n",
    "    contours, _ = cv.findContours(binary, cv.RETR_CCOMP, cv.CHAIN_APPROX_SIMPLE)\n",
    "    # for c in contours: print(cv.contourArea(c))\n",
    "    # Only orbs and poison\n",
    "    orbContours = [c for c in contours if 13000 < cv.contourArea(c) < 200000]\n",
    "    # otherContours = [c for c in contours if 1000 < cv.contourArea(c) < 2500]\n",
    "\n",
    "    # get every single orb here\n",
    "    # orbContours += otherContours\n",
    "    orb_count = len(orbContours) * 2\n",
    "    print(orb_count)\n",
    "    orbs = getEachOrb(src, orb_count)\n",
    "    # cv.imshow(\"orb\", orbs[4])\n",
    "\n",
    "    # detect the colour of every orb and output a string, the list is in order so simple join the list will do\n",
    "    output = detectColour(orbs)\n",
    "\n",
    "    # draw all contours\n",
    "    image = cv.drawContours(src, orbContours, -1, (255, 0, 0), 3)\n",
    "    cv.imshow(\"board\", src)\n",
    "    cv.imshow(\"bw\", binary)\n",
    "    cv.waitKey()\n",
    "\n",
    "    return output"
   ]
  },
  {
   "cell_type": "code",
   "execution_count": 127,
   "metadata": {
    "tags": []
   },
   "outputs": [],
   "source": [
    "def perform(solution):\n",
    "    # save current position\n",
    "    (x, y) = gui.position()\n",
    "\n",
    "    # perform the solution here\n",
    "    # offset = 500\n",
    "    # gui.mouseDown(271, 1351, button='left')\n",
    "    # gui.moveTo(700, 1700, duration=0.2)\n",
    "    # gui.moveTo(500, 1000, duration=0.2)\n",
    "    # gui.moveTo(600, 1500, duration=0.2)\n",
    "    # gui.moveTo(200, 1300, duration=0.2)\n",
    "    # gui.moveTo(900, 1400, duration=0.2)\n",
    "    # gui.mouseUp()\n",
    "\n",
    "    # move back to current position after everything\n",
    "    gui.moveTo(x, y)"
   ]
  },
  {
   "cell_type": "code",
   "execution_count": 128,
   "metadata": {
    "tags": []
   },
   "outputs": [
    {
     "output_type": "stream",
     "name": "stdout",
     "text": "12\nRRRRRRRRRRRRRRRRRRRR\n"
    }
   ],
   "source": [
    "# run the project and get the board string\n",
    "output = run()\n",
    "print(output)\n",
    "# pass the string to C++ and get the path\n",
    "perform([])"
   ]
  },
  {
   "cell_type": "code",
   "execution_count": null,
   "metadata": {},
   "outputs": [],
   "source": []
  }
 ]
}